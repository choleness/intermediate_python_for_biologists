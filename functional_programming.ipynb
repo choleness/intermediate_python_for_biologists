{
 "cells": [
  {
   "cell_type": "markdown",
   "metadata": {},
   "source": [
    "# Intermediate Python for Biologists\n",
    "## Functional Programming"
   ]
  },
  {
   "cell_type": "markdown",
   "metadata": {},
   "source": [
    "### Lambda Functions\n",
    "Lambda functions provide ways to create anonymous functions on the fly. \n",
    "\n",
    "The syntax looks like: \n",
    "`lambda parameter_list: expression`"
   ]
  },
  {
   "cell_type": "markdown",
   "metadata": {},
   "source": [
    "Here's how we would write a function using the `def` keyword to reverse an iterable object (e.g. list or string)."
   ]
  },
  {
   "cell_type": "code",
   "execution_count": null,
   "metadata": {},
   "outputs": [],
   "source": []
  },
  {
   "cell_type": "code",
   "execution_count": null,
   "metadata": {},
   "outputs": [],
   "source": []
  },
  {
   "cell_type": "markdown",
   "metadata": {},
   "source": [
    "Now let's write the same function as a lambda expression. \n",
    "\n",
    "(Usually we will use these within higher-order functions, so this will make more sense in combination with other functions later)."
   ]
  },
  {
   "cell_type": "code",
   "execution_count": null,
   "metadata": {},
   "outputs": [],
   "source": []
  },
  {
   "cell_type": "markdown",
   "metadata": {},
   "source": [
    "### map\n",
    "\n",
    "This is a built-in higher-order function in Python that applies a function to an iterable (like a list) and returns the new list. Use this when you would have looped over a list and applied a function to each itme.  \n",
    "\n",
    "The syntax is: `map(function, iterable)`"
   ]
  },
  {
   "cell_type": "markdown",
   "metadata": {},
   "source": [
    "Let's use this list of animals and get the first letter of each string in the list."
   ]
  },
  {
   "cell_type": "code",
   "execution_count": 10,
   "metadata": {},
   "outputs": [],
   "source": [
    "animals = ['sloth', 'cicada', 'daphnia', 'cat', 'sponge']"
   ]
  },
  {
   "cell_type": "markdown",
   "metadata": {},
   "source": [
    "First, let's do it with a for loop (like we learned in the intro course)."
   ]
  },
  {
   "cell_type": "code",
   "execution_count": null,
   "metadata": {},
   "outputs": [],
   "source": []
  },
  {
   "cell_type": "markdown",
   "metadata": {},
   "source": [
    "Now, let's do it with a map function."
   ]
  },
  {
   "cell_type": "code",
   "execution_count": null,
   "metadata": {},
   "outputs": [],
   "source": []
  },
  {
   "cell_type": "markdown",
   "metadata": {},
   "source": [
    "`map()` doesn’t return a list. It returns an iterator called a map object. To obtain the values from the iterator, you need to either iterate over it or use `list()`\n",
    "\n",
    "I recommend using `list()` "
   ]
  },
  {
   "cell_type": "code",
   "execution_count": null,
   "metadata": {},
   "outputs": [],
   "source": []
  },
  {
   "cell_type": "code",
   "execution_count": null,
   "metadata": {},
   "outputs": [],
   "source": []
  },
  {
   "cell_type": "markdown",
   "metadata": {},
   "source": [
    "In the example above, the lambda functions served as **callback functions** in our higher-order function. Callback functions are functions that are passed in as arguments to other functions. "
   ]
  },
  {
   "cell_type": "code",
   "execution_count": null,
   "metadata": {},
   "outputs": [],
   "source": []
  },
  {
   "cell_type": "code",
   "execution_count": null,
   "metadata": {},
   "outputs": [],
   "source": []
  },
  {
   "cell_type": "markdown",
   "metadata": {},
   "source": [
    "### filter\n",
    "\n",
    "This function filters the given sequence with the help of a function that tests each element in the sequence to be true or not. Use this when you want to select out items from a list based on some condition. \n",
    "\n",
    "The syntax is: `filter(function, iterable)`"
   ]
  },
  {
   "cell_type": "markdown",
   "metadata": {},
   "source": [
    "Let's filter out the numbers in this list that are divisible by 3."
   ]
  },
  {
   "cell_type": "code",
   "execution_count": 28,
   "metadata": {},
   "outputs": [],
   "source": [
    "numbers = [3, 45, 29, 81, 9, 34, 2, 10]"
   ]
  },
  {
   "cell_type": "markdown",
   "metadata": {},
   "source": [
    "First, we'll do it with a for loop (as we have done it before)."
   ]
  },
  {
   "cell_type": "code",
   "execution_count": null,
   "metadata": {},
   "outputs": [],
   "source": []
  },
  {
   "cell_type": "markdown",
   "metadata": {},
   "source": [
    "Now, let's do it with a filter."
   ]
  },
  {
   "cell_type": "code",
   "execution_count": null,
   "metadata": {},
   "outputs": [],
   "source": []
  },
  {
   "cell_type": "code",
   "execution_count": null,
   "metadata": {},
   "outputs": [],
   "source": []
  },
  {
   "cell_type": "markdown",
   "metadata": {},
   "source": [
    "### sorted\n",
    "\n",
    "The `sorted()` function is another built-in higher-order function. It sorts the elements in a list using any type of custom ordering. \n",
    "\n",
    "The syntax is `sorted(list, key=function)`\n",
    "\n",
    "The key argument is optional and can sort as a sorting key. Otherwise, the function will sort the list alphabetically or numerically. "
   ]
  },
  {
   "cell_type": "code",
   "execution_count": null,
   "metadata": {},
   "outputs": [],
   "source": []
  },
  {
   "cell_type": "code",
   "execution_count": null,
   "metadata": {},
   "outputs": [],
   "source": []
  },
  {
   "cell_type": "markdown",
   "metadata": {},
   "source": [
    "Let's use a key function as an argument to sort the list of animals by the length of the string."
   ]
  },
  {
   "cell_type": "code",
   "execution_count": null,
   "metadata": {},
   "outputs": [],
   "source": []
  },
  {
   "cell_type": "markdown",
   "metadata": {},
   "source": [
    "The reverse argument will sort the list in descending according to the key function."
   ]
  },
  {
   "cell_type": "code",
   "execution_count": null,
   "metadata": {},
   "outputs": [],
   "source": []
  },
  {
   "cell_type": "markdown",
   "metadata": {},
   "source": [
    "### reduce\n",
    "\n",
    "`reduce()` is a higher order function applies a function to the items in a list two at a time, progressively combining them to produce a single result. \n",
    "\n",
    "This function is no longer available in built-in functions in Python, but we can import it from `functools`\n",
    "\n",
    "The syntax is: `reduce(function, iterable)`"
   ]
  },
  {
   "cell_type": "code",
   "execution_count": null,
   "metadata": {},
   "outputs": [],
   "source": []
  },
  {
   "cell_type": "markdown",
   "metadata": {},
   "source": [
    "Let's write a program using reduce that adds up the elements of a list."
   ]
  },
  {
   "cell_type": "code",
   "execution_count": null,
   "metadata": {},
   "outputs": [],
   "source": []
  },
  {
   "cell_type": "markdown",
   "metadata": {},
   "source": [
    "Python's built-in function sum does the same thing"
   ]
  },
  {
   "cell_type": "code",
   "execution_count": null,
   "metadata": {},
   "outputs": [],
   "source": []
  },
  {
   "cell_type": "markdown",
   "metadata": {},
   "source": [
    "We can also write a reduce function that finds the maximum value in a list."
   ]
  },
  {
   "cell_type": "code",
   "execution_count": null,
   "metadata": {},
   "outputs": [],
   "source": []
  },
  {
   "cell_type": "markdown",
   "metadata": {},
   "source": [
    "(which does the same thing as the max function)"
   ]
  },
  {
   "cell_type": "code",
   "execution_count": null,
   "metadata": {},
   "outputs": [],
   "source": []
  },
  {
   "cell_type": "markdown",
   "metadata": {},
   "source": [
    "### zip\n",
    "\n",
    "`zip()` doesn't really fit into the same family of higher-order functions as map, filter, and reduce, but it is super useful when you are working with two (or more) lists. \n",
    "\n",
    "It creates an iterator of tuples from the iterators it is passed.\n",
    "\n",
    "It returns a zip object (lazy evaluation), so we'll need to use `list()`"
   ]
  },
  {
   "cell_type": "code",
   "execution_count": 51,
   "metadata": {},
   "outputs": [],
   "source": [
    "numbers = [1, 2, 3]\n",
    "words = ['one', 'two', 'three']"
   ]
  },
  {
   "cell_type": "code",
   "execution_count": null,
   "metadata": {},
   "outputs": [],
   "source": []
  },
  {
   "cell_type": "markdown",
   "metadata": {},
   "source": [
    "To unzip a list, you can use the `*` operator with the `zip()` function. \n",
    "\n",
    "We use something called **tuple unpacking** to assign the variables."
   ]
  },
  {
   "cell_type": "code",
   "execution_count": null,
   "metadata": {},
   "outputs": [],
   "source": []
  },
  {
   "cell_type": "markdown",
   "metadata": {},
   "source": [
    "## Independent Work"
   ]
  },
  {
   "cell_type": "markdown",
   "metadata": {},
   "source": [
    "### DNA Length\n",
    "\n",
    "Below is a list of DNA sequences. Write a program that gives you a list of their lengths\n",
    "\n",
    "1. First, write this program using a `for loop`\n",
    "2. Next, write a program that does the same thing using a built-in higher-order function in Python. \n",
    "\n",
    "Feel free to use the example list below or create your own. "
   ]
  },
  {
   "cell_type": "code",
   "execution_count": 1,
   "metadata": {},
   "outputs": [],
   "source": [
    "dna_list = ['ATG', 'TAGC', 'ACGTATGC', 'ACGGCTAG', 'GATCGCGC', 'TCGCGCAAAAAA']"
   ]
  },
  {
   "cell_type": "code",
   "execution_count": null,
   "metadata": {},
   "outputs": [],
   "source": []
  },
  {
   "cell_type": "code",
   "execution_count": null,
   "metadata": {},
   "outputs": [],
   "source": []
  },
  {
   "cell_type": "markdown",
   "metadata": {},
   "source": [
    "### Check for A\n",
    "Using the same DNA list above (copied below), write a program that creates a list of the sequences that start with 'A'\n",
    "\n",
    "1. First, write this program using a `for loop`\n",
    "2. Next, write a program that does the same thing using a built-in higher-order function in Python.\n",
    "\n",
    "Feel free to use the example list below or create your own. "
   ]
  },
  {
   "cell_type": "code",
   "execution_count": 7,
   "metadata": {},
   "outputs": [],
   "source": [
    "dna_list = ['ATG', 'TAGC', 'ACGTATGC', 'ACGGCTAG', 'GATCGCGC', 'TCGCGCAAAAAA']"
   ]
  },
  {
   "cell_type": "code",
   "execution_count": null,
   "metadata": {},
   "outputs": [],
   "source": []
  },
  {
   "cell_type": "code",
   "execution_count": null,
   "metadata": {},
   "outputs": [],
   "source": []
  },
  {
   "cell_type": "markdown",
   "metadata": {},
   "source": [
    "### Sort by GC content\n",
    "\n",
    "Write a program that makes a sorted list of DNA sequences by their proportion of GC content using a higher-order function. Have your program order the list DNA sequences from lowest GC content to highest. \n",
    "\n",
    "Feel free to use the example list below or create your own. "
   ]
  },
  {
   "cell_type": "code",
   "execution_count": 15,
   "metadata": {},
   "outputs": [],
   "source": [
    "dna_list = ['ATG', 'TAGC', 'ACGTATGC', 'ACGGCTAG', 'GATCGCGC', 'TCGCGCAAAAAA']"
   ]
  },
  {
   "cell_type": "code",
   "execution_count": null,
   "metadata": {},
   "outputs": [],
   "source": []
  },
  {
   "cell_type": "markdown",
   "metadata": {},
   "source": [
    "### Bonus: Sort Poly-A tail\n",
    "\n",
    "Write a program that will sort a list of DNA sequences with poly-A tails. (Poly-A tails means the sequences ends in multiple A's of varying amounts.) Have your program return a list of sorted sequences with the longest A tail to shortest.\n",
    "\n",
    "Feel free to use the example list below or create your own. \n",
    "\n",
    "*hint: this problem will likely require regular expressions*"
   ]
  },
  {
   "cell_type": "code",
   "execution_count": 19,
   "metadata": {},
   "outputs": [],
   "source": [
    "poly_a_list = ['ATCGA', 'ACGG', 'CGTAAA', 'ATCGAA']"
   ]
  },
  {
   "cell_type": "code",
   "execution_count": null,
   "metadata": {},
   "outputs": [],
   "source": []
  },
  {
   "cell_type": "code",
   "execution_count": null,
   "metadata": {},
   "outputs": [],
   "source": []
  },
  {
   "cell_type": "code",
   "execution_count": null,
   "metadata": {},
   "outputs": [],
   "source": []
  },
  {
   "cell_type": "code",
   "execution_count": null,
   "metadata": {},
   "outputs": [],
   "source": []
  },
  {
   "cell_type": "markdown",
   "metadata": {},
   "source": [
    "### Bonus: Processing a BLAST file\n",
    "\n",
    "In the same folder as the notebooks, there is a file called blast_example.txt. This contains a BLAST result in a tabular format (tab separated file). \n",
    "\n",
    "Each row represents a hit and the fields, in order, show you:\n",
    "1. name of the query sequence\n",
    "2. name of the subject sequence\n",
    "3. percentage of positions that are identical between the two sequences\n",
    "4. alignment length\n",
    "5. number of mismatches\n",
    "6. number of gap opens\n",
    "7. position of the start of the match on the query sequence\n",
    "8. position of the end of the match on the query sequence\n",
    "9. position of the start of the match on the subject sequence\n",
    "10. position of the end of the match on the subject sequence\n",
    "11. value for the hit\n",
    "12. bit score for the hit\n",
    "\n",
    "Using a combination of map, filter, and sorted, answer the following questions about the file:\n",
    "\n",
    "\n",
    "- How many hits have fewer than 20 mismatches?\n",
    "- List the subject sequence names for the ten matches with the lowest percentage of identical positions\n",
    "- For matches where the subject sequence name includes the string \"COX1\", list the start position on the query as a proportion of the length of the match"
   ]
  },
  {
   "cell_type": "code",
   "execution_count": null,
   "metadata": {},
   "outputs": [],
   "source": []
  },
  {
   "cell_type": "code",
   "execution_count": null,
   "metadata": {},
   "outputs": [],
   "source": [
    "\n"
   ]
  },
  {
   "cell_type": "code",
   "execution_count": null,
   "metadata": {},
   "outputs": [],
   "source": []
  },
  {
   "cell_type": "code",
   "execution_count": null,
   "metadata": {},
   "outputs": [],
   "source": []
  },
  {
   "cell_type": "code",
   "execution_count": null,
   "metadata": {},
   "outputs": [],
   "source": []
  },
  {
   "cell_type": "code",
   "execution_count": null,
   "metadata": {},
   "outputs": [],
   "source": []
  },
  {
   "cell_type": "code",
   "execution_count": null,
   "metadata": {},
   "outputs": [],
   "source": []
  },
  {
   "cell_type": "code",
   "execution_count": null,
   "metadata": {},
   "outputs": [],
   "source": []
  },
  {
   "cell_type": "code",
   "execution_count": null,
   "metadata": {},
   "outputs": [],
   "source": []
  }
 ],
 "metadata": {
  "kernelspec": {
   "display_name": "Python 3",
   "language": "python",
   "name": "python3"
  },
  "language_info": {
   "codemirror_mode": {
    "name": "ipython",
    "version": 3
   },
   "file_extension": ".py",
   "mimetype": "text/x-python",
   "name": "python",
   "nbconvert_exporter": "python",
   "pygments_lexer": "ipython3",
   "version": "3.7.4"
  }
 },
 "nbformat": 4,
 "nbformat_minor": 2
}
