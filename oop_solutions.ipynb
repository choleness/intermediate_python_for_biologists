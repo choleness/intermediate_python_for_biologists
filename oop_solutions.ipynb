{
 "cells": [
  {
   "cell_type": "markdown",
   "metadata": {},
   "source": [
    "# Intermediate Python for Biologists\n",
    "## Object-Oriented Python"
   ]
  },
  {
   "cell_type": "markdown",
   "metadata": {},
   "source": [
    "### Creating a class\n",
    "To create a class in Python, we start with the `class` keyword, followed by the name of the class and a colon. \n",
    "\n",
    "Remember from before, that everything \"inside\" the class will be indented and will be part of the body of the class. More indents will be needed for items inside methods, so be sure to keep track.  \n",
    "\n",
    "Inside our class, we will define the `__init__` (two underscores on each side) method with `def` This creates an intializer that can be used to instantiate objects. This __init__ method must always be present. It takes one argument `self` which refers to the object itself. \n",
    "\n",
    "For now, we can just use the Python keyword `pass` because Python expects something to be in the __init__ method.\n"
   ]
  },
  {
   "cell_type": "code",
   "execution_count": 1,
   "metadata": {},
   "outputs": [],
   "source": [
    "class Cat():\n",
    "    def __init__(self):\n",
    "        pass"
   ]
  },
  {
   "cell_type": "markdown",
   "metadata": {},
   "source": [
    "### Instantiating objects\n",
    "We haven't created an instance of our Cat class yet, but we can do that by instantiating an object. \n",
    "\n",
    "To instantiate an object, type the name of the class followed by parentheses. Let's also assign it to a variable so we can keep track of our object. \n"
   ]
  },
  {
   "cell_type": "code",
   "execution_count": 2,
   "metadata": {},
   "outputs": [],
   "source": [
    "vega = Cat()"
   ]
  },
  {
   "cell_type": "markdown",
   "metadata": {},
   "source": [
    "Let's print it."
   ]
  },
  {
   "cell_type": "code",
   "execution_count": 3,
   "metadata": {},
   "outputs": [
    {
     "name": "stdout",
     "output_type": "stream",
     "text": [
      "<__main__.Cat object at 0x7ff4c043e190>\n"
     ]
    }
   ],
   "source": [
    "print(vega)"
   ]
  },
  {
   "cell_type": "markdown",
   "metadata": {},
   "source": [
    "This tells us we have a new Cat object at 0x7ff47cc59f90. The string of letters and numbers is a memory address that tells us where the Cat object is stored in your computer's memory. Your number will be different than mine. \n",
    "\n",
    "If we create a second Cat object, it will be at a different address."
   ]
  },
  {
   "cell_type": "code",
   "execution_count": 4,
   "metadata": {},
   "outputs": [],
   "source": [
    "another_cat = Cat()"
   ]
  },
  {
   "cell_type": "code",
   "execution_count": 5,
   "metadata": {},
   "outputs": [
    {
     "name": "stdout",
     "output_type": "stream",
     "text": [
      "<__main__.Cat object at 0x7ff4c043ed90>\n"
     ]
    }
   ],
   "source": [
    "print(another_cat)"
   ]
  },
  {
   "cell_type": "markdown",
   "metadata": {},
   "source": [
    "### Adding attributes to a class\n",
    "We've successfully created an object that is an instance of the Cat class, but it doesn't really have anything going on for it. Let's add some attributes that will describe the object. Attributes are a lot like variables that belong to a specific object. \n",
    "\n",
    "The __init__ function will now take two arguments after self (name and age). We then assign these as attributes to `self.name` and `self.age`\n",
    "\n",
    "`self.name = name` creates an attribute called name and assigns to it the value of the name parameter\n",
    "\n",
    "`self.age = age` creates an attribute called age and assigns to it the value of the age parameter\n",
    "\n",
    "We call attributes that are created in the __init__ method **instance attributes**. Instance attributes will be specific to a particular instance of the class. So for our example, all Cat objects have a name and an age, but the values that are stored for the name and the age will be different for each instance of Cat we create. \n",
    "\n",
    "We can also create **class attributes** which are attributes that have the same value for all instances of that class. These are defined outside of the __init__ method. We'll create a class attribute for our Cat class that contains the species name for cats.\n",
    "\n",
    "So we can use class attributes to define properties that have the same value for each class instance and instance attributes to create properties that vary from instance to instance. "
   ]
  },
  {
   "cell_type": "code",
   "execution_count": 6,
   "metadata": {},
   "outputs": [],
   "source": [
    "class Cat:\n",
    "    species = \"Felis catus\"\n",
    "    \n",
    "    def __init__(self, name, age):  \n",
    "        self.name = name\n",
    "        self.age = age"
   ]
  },
  {
   "cell_type": "markdown",
   "metadata": {},
   "source": [
    "Now we can create a new vega object, with a name and age. To pass arguments to the name and age parameters, we put values into the parentheses after the class name (like we did with arguments for functions before)."
   ]
  },
  {
   "cell_type": "markdown",
   "metadata": {},
   "source": [
    "If we forget to instantiate the object with name and age values, we will get a `TypeError`"
   ]
  },
  {
   "cell_type": "code",
   "execution_count": 7,
   "metadata": {},
   "outputs": [
    {
     "ename": "TypeError",
     "evalue": "__init__() missing 2 required positional arguments: 'name' and 'age'",
     "output_type": "error",
     "traceback": [
      "\u001b[0;31m---------------------------------------------------------------------------\u001b[0m",
      "\u001b[0;31mTypeError\u001b[0m                                 Traceback (most recent call last)",
      "\u001b[0;32m<ipython-input-7-fdfbdafb033c>\u001b[0m in \u001b[0;36m<module>\u001b[0;34m\u001b[0m\n\u001b[0;32m----> 1\u001b[0;31m \u001b[0mvega\u001b[0m \u001b[0;34m=\u001b[0m \u001b[0mCat\u001b[0m\u001b[0;34m(\u001b[0m\u001b[0;34m)\u001b[0m\u001b[0;34m\u001b[0m\u001b[0;34m\u001b[0m\u001b[0m\n\u001b[0m",
      "\u001b[0;31mTypeError\u001b[0m: __init__() missing 2 required positional arguments: 'name' and 'age'"
     ]
    }
   ],
   "source": [
    "vega = Cat()"
   ]
  },
  {
   "cell_type": "code",
   "execution_count": null,
   "metadata": {},
   "outputs": [],
   "source": [
    "vega = Cat(\"Vega\", 4)"
   ]
  },
  {
   "cell_type": "markdown",
   "metadata": {},
   "source": [
    "To access an object's attributes, we can use the dot notation (which might be familiar from our work in pandas before). Remember that attributes don't have parentheses after them (but methods do!). "
   ]
  },
  {
   "cell_type": "code",
   "execution_count": null,
   "metadata": {},
   "outputs": [],
   "source": [
    "print(vega.name)"
   ]
  },
  {
   "cell_type": "code",
   "execution_count": null,
   "metadata": {},
   "outputs": [],
   "source": [
    "print(vega.age)"
   ]
  },
  {
   "cell_type": "code",
   "execution_count": null,
   "metadata": {},
   "outputs": [],
   "source": [
    "print(vega.species)"
   ]
  },
  {
   "cell_type": "code",
   "execution_count": null,
   "metadata": {},
   "outputs": [],
   "source": [
    "print(vega.name + \" is a cat that is \" + str(vega.age) + \" years old\")"
   ]
  },
  {
   "cell_type": "markdown",
   "metadata": {},
   "source": [
    "### Defining methods within a class\n",
    "To have our class do something, we can add methods, which are a lot like functions that belong to a specific object. \n",
    "\n",
    "Let's rewrite our Cat class so it can meow.\n",
    "\n",
    "**Instance methods** are functions that are defined inside a class and can only be called from an instance of that class. Just like .__init__(), an instance method’s first parameter is always self.\n"
   ]
  },
  {
   "cell_type": "code",
   "execution_count": null,
   "metadata": {},
   "outputs": [],
   "source": [
    "class Cat:\n",
    "    species = \"Felis catus\"\n",
    "        \n",
    "    def __init__(self, name, age):  \n",
    "        self.name = name\n",
    "        self.age = age\n",
    "    \n",
    "    def meow(self):\n",
    "        return \"meow!\""
   ]
  },
  {
   "cell_type": "markdown",
   "metadata": {},
   "source": [
    "Now we can use our meow method using dot notation (after we create another instance of the vega object. \n",
    "\n",
    "Remember that we need to put parentheses after a method (like we do when calling a function). \n",
    "\n",
    "Because the meow method doesn't take any arguments, we leave the insides of the parentheses empty. "
   ]
  },
  {
   "cell_type": "code",
   "execution_count": null,
   "metadata": {},
   "outputs": [],
   "source": [
    "vega = Cat(\"Vega\", 4)"
   ]
  },
  {
   "cell_type": "code",
   "execution_count": null,
   "metadata": {},
   "outputs": [],
   "source": [
    "vega.meow()"
   ]
  },
  {
   "cell_type": "markdown",
   "metadata": {},
   "source": [
    "### f-string formatting (an aside)\n",
    "f-strings (also known as \"formatted string literals\") are a way to format strings. You may have also seen `str.format()` or %-formatting to print variables in the format that you wanted. I don't recommend using those because they are hard to read and error-prone (more on this in the resources page). Here's how we can use an f-string to print out some variables associated with our cat.\n",
    "\n",
    "Then, we'll use these f-strings in our class definition."
   ]
  },
  {
   "cell_type": "markdown",
   "metadata": {},
   "source": [
    "Using print, we can do it this way."
   ]
  },
  {
   "cell_type": "code",
   "execution_count": null,
   "metadata": {},
   "outputs": [],
   "source": [
    "print(vega.name + \" is a cat that is \" + str(vega.age) + \" years old\")"
   ]
  },
  {
   "cell_type": "markdown",
   "metadata": {},
   "source": [
    "Using f-strings we can do it this way."
   ]
  },
  {
   "cell_type": "code",
   "execution_count": null,
   "metadata": {},
   "outputs": [],
   "source": [
    "name = \"Vega\"\n",
    "age = 4\n",
    "f\"{name} is a cat that is {age} years old\""
   ]
  },
  {
   "cell_type": "markdown",
   "metadata": {},
   "source": [
    "Okay, back to our class. Let's use f-strings to create a method called `intro` that prints out a sentence about the cat, like we did earlier.\n",
    "\n",
    "I'm using f-strings here because I'd like to return the string, not have the method do multiple things (return a string and print it). This might not break it, but it's best practice to have your functions and methods just do one thing. And when we start passing the results of one function to another, if it prints it out it doesn't get passed to the next function in the way we might expect. \n",
    "\n",
    "I'm going to adjust our meow method as well so that it returns a string. "
   ]
  },
  {
   "cell_type": "code",
   "execution_count": null,
   "metadata": {},
   "outputs": [],
   "source": [
    "class Cat:\n",
    "    species = \"Felis catus\"\n",
    "    \n",
    "    def __init__(self, name, age):  \n",
    "        self.name = name\n",
    "        self.age = age\n",
    "\n",
    "    def meow(self):\n",
    "        return f\"{self.name} says meow!\"\n",
    "\n",
    "    def intro(self):\n",
    "        return f\"{self.name} is a cat that is {self.age} years old\""
   ]
  },
  {
   "cell_type": "markdown",
   "metadata": {},
   "source": [
    "Let's create a few instances of the Cat class and call our new method on it. The response should now depend on which object you call the method on. "
   ]
  },
  {
   "cell_type": "code",
   "execution_count": null,
   "metadata": {},
   "outputs": [],
   "source": [
    "vega = Cat(\"Vega\", 4)\n",
    "tenzin = Cat(\"Tenzin\", 6)\n",
    "leo = Cat(\"Leo\", 2)"
   ]
  },
  {
   "cell_type": "code",
   "execution_count": null,
   "metadata": {},
   "outputs": [],
   "source": [
    "print(vega.intro())\n",
    "print(vega.meow())"
   ]
  },
  {
   "cell_type": "code",
   "execution_count": null,
   "metadata": {},
   "outputs": [],
   "source": [
    "print(tenzin.intro())"
   ]
  },
  {
   "cell_type": "code",
   "execution_count": null,
   "metadata": {},
   "outputs": [],
   "source": [
    "print(leo.intro())"
   ]
  },
  {
   "cell_type": "markdown",
   "metadata": {},
   "source": [
    "Notice when we print the object, we get this:"
   ]
  },
  {
   "cell_type": "code",
   "execution_count": null,
   "metadata": {},
   "outputs": [],
   "source": [
    "print(leo)"
   ]
  },
  {
   "cell_type": "markdown",
   "metadata": {},
   "source": [
    "Instead of having a method (intro) that will print a string about the object, perhaps we could have it print a string description of our object with we use `print()`. We can do that with our class defintion using a special instance method call `__str__` (two underscores before and after, just like init).\n",
    "\n",
    "\n",
    "`__init__` and `__str__` are called **dunder methods** because they begin and end with double underscores. There are many other dunder methods that can be used to customize your Python classes. "
   ]
  },
  {
   "cell_type": "code",
   "execution_count": null,
   "metadata": {},
   "outputs": [],
   "source": [
    "class Cat:\n",
    "    species = \"Felis catus\"\n",
    "    \n",
    "    def __init__(self, name, age):  \n",
    "        self.name = name\n",
    "        self.age = age\n",
    "\n",
    "    def meow(self):\n",
    "        return f\"{self.name} says meow!\"\n",
    "        \n",
    "    # Replace .intro() with __str__()\n",
    "    def __str__(self):\n",
    "        return f\"{self.name} is a cat that is {self.age} years old\""
   ]
  },
  {
   "cell_type": "code",
   "execution_count": null,
   "metadata": {},
   "outputs": [],
   "source": [
    "vega = Cat(\"Vega\", 4)\n",
    "tenzin = Cat(\"Tenzin\", 6)\n",
    "leo = Cat(\"Leo\", 2)"
   ]
  },
  {
   "cell_type": "code",
   "execution_count": null,
   "metadata": {},
   "outputs": [],
   "source": [
    "print(leo)"
   ]
  },
  {
   "cell_type": "markdown",
   "metadata": {},
   "source": [
    "If we want to change the value of an attribute, we can do that by assigning a new value. \n",
    "\n",
    "By default, custom objects are **mutable**, meaning we can change them dynamically. Previously we ran into data types that are mutable and immutable. Remember lists and dictionaries are mutable, but strings and tuples are immutable. \n"
   ]
  },
  {
   "cell_type": "code",
   "execution_count": null,
   "metadata": {},
   "outputs": [],
   "source": [
    "print(leo.age)"
   ]
  },
  {
   "cell_type": "code",
   "execution_count": null,
   "metadata": {},
   "outputs": [],
   "source": [
    "leo.age = 3"
   ]
  },
  {
   "cell_type": "code",
   "execution_count": null,
   "metadata": {},
   "outputs": [],
   "source": [
    "print(leo.age)"
   ]
  },
  {
   "cell_type": "markdown",
   "metadata": {},
   "source": [
    "### Inheritance\n",
    "\n",
    "We can also have a class that takes on the attributes and methods of another class. This is called **inheritance**.\n",
    "\n",
    "**Child classes** can extend or override the attributes and methods that they inherit from parent classes. So, child classes get all the same attributes and classes that their parent classes have but can also specify attributes and methods of their own. "
   ]
  },
  {
   "cell_type": "markdown",
   "metadata": {},
   "source": [
    "Let's write another class for our dog lovers."
   ]
  },
  {
   "cell_type": "code",
   "execution_count": null,
   "metadata": {},
   "outputs": [],
   "source": [
    "class Dog:\n",
    "    species = \"Canis familaris\"\n",
    "    \n",
    "    def __init__(self, name, age):  \n",
    "        self.name = name\n",
    "        self.age = age\n",
    "\n",
    "    def bark(self):\n",
    "        return f\"{self.name} says bark!\"\n",
    "        \n",
    "    # Replace .intro() with __str__()\n",
    "    def __str__(self):\n",
    "        return f\"{self.name} is a dog that is {self.age} years old\"   "
   ]
  },
  {
   "cell_type": "code",
   "execution_count": null,
   "metadata": {},
   "outputs": [],
   "source": [
    "phoenix = Dog(\"Phoenix\", 6)"
   ]
  },
  {
   "cell_type": "code",
   "execution_count": null,
   "metadata": {},
   "outputs": [],
   "source": [
    "print(phoenix)"
   ]
  },
  {
   "cell_type": "code",
   "execution_count": null,
   "metadata": {},
   "outputs": [],
   "source": [
    "phoenix.bark()"
   ]
  },
  {
   "cell_type": "markdown",
   "metadata": {},
   "source": [
    "This works great, but we have a sinking suspicion that something is wrong. We reused so much of the same code that we used for our earlier Cat class, and it feels like we are doing extra work that we don't have to. Code reuse is good, and having the same code in two separate places is a sign that we could be doing something better.\n",
    "\n",
    "Inheritance will allow our two classes (Cat and Dog) to share code. We'll create a third class (Animal) that holds the shared code and then have the two classes inherit from that class. In this case Animal will be our **superclass** (or base class) of Cat and Dog (which are **subclasses** (or derived classes). \n",
    "\n",
    "Let's create the Animal class that has the shared code for the two classes."
   ]
  },
  {
   "cell_type": "code",
   "execution_count": null,
   "metadata": {},
   "outputs": [],
   "source": [
    "class Animal():\n",
    "    def __init__(self, name, age):  \n",
    "        self.name = name\n",
    "        self.age = age  \n",
    "    def __str__(self):\n",
    "        return f\"{self.name} is a pet that is {self.age} years old\""
   ]
  },
  {
   "cell_type": "markdown",
   "metadata": {},
   "source": [
    "And we'll rewrite the class definitions for Dog and Cat so they inherit from the Animal class. To do this, we put the class we'd like to inherit from in the parentheses after the class name. We include only the attributes and methods that we want to be unique to those classes. "
   ]
  },
  {
   "cell_type": "code",
   "execution_count": null,
   "metadata": {},
   "outputs": [],
   "source": [
    "class Cat(Animal):\n",
    "    species = \"Felis catus\"\n",
    "\n",
    "    def meow(self):\n",
    "        return f\"{self.name} says meow!\"\n",
    "\n",
    "class Dog (Animal):\n",
    "    species = \"Canis familiaris\"\n",
    "\n",
    "    def bark(self):\n",
    "        return f\"{self.name} says bark!\""
   ]
  },
  {
   "cell_type": "code",
   "execution_count": null,
   "metadata": {},
   "outputs": [],
   "source": [
    "fido = Dog(\"Fido\", 12)\n",
    "kaya = Cat(\"Kaya\", 9)"
   ]
  },
  {
   "cell_type": "code",
   "execution_count": null,
   "metadata": {},
   "outputs": [],
   "source": [
    "print(fido.name, kaya.name)"
   ]
  },
  {
   "cell_type": "code",
   "execution_count": null,
   "metadata": {},
   "outputs": [],
   "source": [
    "fido.bark()"
   ]
  },
  {
   "cell_type": "code",
   "execution_count": null,
   "metadata": {},
   "outputs": [],
   "source": [
    "kaya.meow()"
   ]
  },
  {
   "cell_type": "markdown",
   "metadata": {},
   "source": [
    "## Independent Work"
   ]
  },
  {
   "cell_type": "markdown",
   "metadata": {},
   "source": [
    "### DNA class\n",
    "Create a DNA class with three instance attributes:\n",
    "\n",
    "`.sequence`, which stores the DNA sequence as a string\n",
    "\n",
    "`.gene_name`, which stores the gene name as a string\n",
    "\n",
    "`.species`, which stores the species name as a string\n",
    "\n",
    "Then instantiate two DNA objects and print out their sequence, gene name, and species name.\n",
    "\n",
    "**Bonus:** Use f-strings and the `__str__` dunder method to add a method to your DNA class that will print details about it when you use the `print()` function."
   ]
  },
  {
   "cell_type": "code",
   "execution_count": null,
   "metadata": {},
   "outputs": [],
   "source": [
    "class DNA:    \n",
    "    def __init__(self, sequence, gene_name, species):  \n",
    "        self.sequence = sequence\n",
    "        self.gene_name = gene_name\n",
    "        self.species = species\n",
    "    "
   ]
  },
  {
   "cell_type": "code",
   "execution_count": null,
   "metadata": {},
   "outputs": [],
   "source": [
    "d1 = DNA(\"ATGCG\", \"COX1\", \"Homo sapiens\")\n",
    "d2 = DNA(\"CTGGGCCC\", \"ATP6\", \"Solenopsis invicta\")"
   ]
  },
  {
   "cell_type": "code",
   "execution_count": null,
   "metadata": {},
   "outputs": [],
   "source": [
    "print(d1.sequence, d1.gene_name, d1.species)\n",
    "print(d2.sequence, d2.gene_name, d2.species)"
   ]
  },
  {
   "cell_type": "code",
   "execution_count": null,
   "metadata": {},
   "outputs": [],
   "source": [
    "# Bonus answer\n",
    "class DNA:    \n",
    "    def __init__(self, sequence, gene_name, species):  \n",
    "        self.sequence = sequence\n",
    "        self.gene_name = gene_name\n",
    "        self.species = species\n",
    "    \n",
    "    def __str__(self):\n",
    "        return f\"sequence: {self.sequence}, gene name: {self.gene_name}, species: {self.species}\""
   ]
  },
  {
   "cell_type": "code",
   "execution_count": null,
   "metadata": {},
   "outputs": [],
   "source": [
    "d1 = DNA(\"ATGCG\", \"COX1\", \"Homo sapiens\")\n",
    "d2 = DNA(\"CTGGGCCC\", \"ATP6\", \"Solenopsis invicta\")"
   ]
  },
  {
   "cell_type": "code",
   "execution_count": null,
   "metadata": {},
   "outputs": [],
   "source": [
    "print(d1)\n",
    "print(d2)"
   ]
  },
  {
   "cell_type": "markdown",
   "metadata": {},
   "source": [
    "### Adding methods to the DNA class\n",
    "Add two methods to our DNA class. One method will return the complement of the DNA sequence. The other method will return the GC content (proportion of sequence that is G or C).\n",
    "\n",
    "(Hint: It might be helpful to write the methods as functions first to get them working and then add them to your class definition)\n",
    "\n",
    "Create an instances of the DNA class and use your new methods on it.\n",
    "\n",
    "**Bonus:** Create a third method that formats the DNA in FASTA format with a \">\" at the beginning of the header line followed by the gene name and species name. The second line should contain the sequence string. Create three instances of the DNA class and write them to a file in fasta format."
   ]
  },
  {
   "cell_type": "code",
   "execution_count": null,
   "metadata": {},
   "outputs": [],
   "source": [
    "class DNA:    \n",
    "    def __init__(self, sequence, gene_name, species):  \n",
    "        self.sequence = sequence\n",
    "        self.gene_name = gene_name\n",
    "        self.species = species\n",
    "    \n",
    "    def __str__(self):\n",
    "        return f\"sequence: {self.sequence}, gene name: {self.gene_name}, species: {self.species}\"\n",
    "    \n",
    "    def complement(self):\n",
    "        replacement1 = self.sequence.replace('A', 't')\n",
    "        replacement2 = replacement1.replace('T', 'a')\n",
    "        replacement3 = replacement2.replace('C', 'g')\n",
    "        replacement4 = replacement3.replace('G', 'c')\n",
    "        return replacement4.upper()\n",
    "\n",
    "    def get_GC(self): \n",
    "         length = len(self.sequence)\n",
    "         g_count = self.sequence.count('G')\n",
    "         c_count = self.sequence.count('C')\n",
    "         gc_content = (g_count + c_count) / length\n",
    "         return gc_content \n",
    "\n",
    "    # bonus\n",
    "    def get_fasta(self):\n",
    "         header = '>' + self.gene_name + ' ' + self.species\n",
    "         return header + '\\n' + self.sequence + '\\n' "
   ]
  },
  {
   "cell_type": "code",
   "execution_count": null,
   "metadata": {},
   "outputs": [],
   "source": [
    "d = DNA('ATATATATGCTCA', 'fake_gene', 'Equus zebra') \n",
    "print('Created a record for ' + d.gene_name + ' from ' + d.species)\n",
    "print('sequence is ' + str(d.sequence))\n",
    "print('GC is ' + str(d.get_GC()))\n",
    "print('complement is ' + d.complement())"
   ]
  },
  {
   "cell_type": "code",
   "execution_count": null,
   "metadata": {},
   "outputs": [],
   "source": [
    "# bonus\n",
    "d1 = DNA('ATATATATGCTCA', 'gene1', 'Equus zebra') \n",
    "d2 = DNA('ATATAGCGCGGGC', 'gene2', 'Equus zebra')\n",
    "d3 = DNA('GCTTACATATATAT', 'gene3', 'Equus zebra')\n",
    "gene_list = [d1, d2, d3]\n",
    "output = open(\"zebra.fasta\", \"w\")\n",
    "for gene in gene_list:\n",
    "    output.write(gene.get_fasta())\n",
    "output.close()"
   ]
  },
  {
   "cell_type": "markdown",
   "metadata": {},
   "source": [
    "### Bonus: Sequence Superclass\n",
    "Create another class that works with protein sequence data. Which attributes and methods does this class need? (If you don't normally work with protein sequences, it's totally fine to make something up here. Or ask one of your classmates that does!)\n",
    "\n",
    "Take a look at your Protein class and determine which attributes and methods it has that it shares with your DNA class. Feel free to update the DNA class so it feels more useful to you. Once you have determined which attributes and methods the Protein and the DNA class share, create a superclass that both of them inherit from. "
   ]
  },
  {
   "cell_type": "code",
   "execution_count": null,
   "metadata": {},
   "outputs": [],
   "source": [
    "class Sequence(object):\n",
    "    def __init__(self, sequence, gene_name, species):\n",
    "         self.sequence = sequence\n",
    "         self.gene_name = gene_name\n",
    "         self.species = species\n",
    "        \n",
    "    def get_fasta(self):\n",
    "         header = '>' + self.gene_name + ' ' + self.species\n",
    "         return header + '\\n' + self.sequence + '\\n' \n",
    "\n",
    "class Protein(Sequence):    \n",
    "        # get the proportion of charged amino acids in the sequence\n",
    "        def prop_charged(self):\n",
    "            aa_list =['R', 'K', 'D', 'E']\n",
    "            count = 0\n",
    "            for aa in aa_list:\n",
    "                seq = self.sequence.upper()\n",
    "                count += seq.count(aa)\n",
    "            return count / len(self.sequence)\n",
    "        \n",
    "class DNA(Sequence):\n",
    "    def complement(self):\n",
    "         replace1 = self.sequence.replace('A', 't')\n",
    "         replace2 = replace1.replace('T', 'a')\n",
    "         replace3 = replace2.replace('C', 'g')\n",
    "         replace4 = replace3.replace('G', 'c')\n",
    "         return replace4.upper()\n",
    "    \n",
    "    def get_GC(self):\n",
    "        return (self.sequence.count('G') + self.sequence.count('C')/ len(self.sequence))"
   ]
  },
  {
   "cell_type": "code",
   "execution_count": null,
   "metadata": {},
   "outputs": [],
   "source": [
    "p1 = Protein('mnenllrrikkrlnekfyvmndawlrdcieffiadkapheitdgdilkfvegqwqlsdlr', 'recQ', 'Solenopsis invicta')"
   ]
  },
  {
   "cell_type": "code",
   "execution_count": null,
   "metadata": {},
   "outputs": [],
   "source": [
    "p1.prop_charged()"
   ]
  },
  {
   "cell_type": "code",
   "execution_count": null,
   "metadata": {},
   "outputs": [],
   "source": [
    "p1.species"
   ]
  },
  {
   "cell_type": "code",
   "execution_count": null,
   "metadata": {},
   "outputs": [],
   "source": []
  },
  {
   "cell_type": "code",
   "execution_count": null,
   "metadata": {},
   "outputs": [],
   "source": []
  },
  {
   "cell_type": "code",
   "execution_count": null,
   "metadata": {},
   "outputs": [],
   "source": []
  },
  {
   "cell_type": "code",
   "execution_count": null,
   "metadata": {},
   "outputs": [],
   "source": []
  }
 ],
 "metadata": {
  "kernelspec": {
   "display_name": "Python 3",
   "language": "python",
   "name": "python3"
  },
  "language_info": {
   "codemirror_mode": {
    "name": "ipython",
    "version": 3
   },
   "file_extension": ".py",
   "mimetype": "text/x-python",
   "name": "python",
   "nbconvert_exporter": "python",
   "pygments_lexer": "ipython3",
   "version": "3.7.4"
  }
 },
 "nbformat": 4,
 "nbformat_minor": 2
}
